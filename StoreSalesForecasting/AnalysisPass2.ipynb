{
 "cells": [
  {
   "cell_type": "markdown",
   "metadata": {},
   "source": [
    "# Store Sales Forecasting"
   ]
  },
  {
   "cell_type": "markdown",
   "metadata": {},
   "source": [
    "## Evaluation Metric\n",
    "\n",
    "The evaluation metric for this competition is Root Mean Squared Logarithmic Error."
   ]
  },
  {
   "cell_type": "markdown",
   "metadata": {},
   "source": [
    "In the first pass, I ignored history and used the generic XGBRegressor to make predictions. I tried using the objective of squared mean error, but the model consistently returned terrible results with that. Using a different metric to fit the XGBRegressor, I was still able to get the Root Mean Squared Logarithmic Error to be 1.54655, but on the Kaggle data it was scored 2.018. In this pass, I'll try to use the Holiday table to try and get an improvement on my results."
   ]
  },
  {
   "cell_type": "code",
   "execution_count": 1,
   "metadata": {},
   "outputs": [],
   "source": [
    "# Basic imports\n",
    "import pandas as pd \n",
    "import numpy as np \n",
    "import matplotlib.pyplot as plt \n",
    "import seaborn as sns"
   ]
  },
  {
   "cell_type": "markdown",
   "metadata": {},
   "source": [
    "## Data\n",
    "\n",
    "This dataset has several csv files. It looks like most of them can be joined to the training data via one column or another\n",
    "\n",
    "1. Holidays_events -> Can join on Date. There is some tricky moved variable I might need to write a function for.\n",
    "2. Oil -> Oil price for the day. Can join on the date (Prices for both train and test are included).\n",
    "3. Stores -> Store info. Can join on store number\n",
    "4. Transactions -> Can join on Date+StoreNbr"
   ]
  },
  {
   "cell_type": "code",
   "execution_count": 2,
   "metadata": {},
   "outputs": [],
   "source": [
    "df_train = pd.read_csv('./Data/train.csv')\n",
    "df_test = pd.read_csv('./Data/test.csv')\n",
    "df_oil = pd.read_csv('./Data/oil.csv')\n",
    "df_stores = pd.read_csv('./Data/stores.csv')\n",
    "df_transactions = pd.read_csv('./Data/transactions.csv')\n",
    "df_holidays = pd.read_csv('./Data/holidays_events.csv')\n",
    "\n",
    "# Store originals just in case\n",
    "df_train0 = df_train.copy()\n",
    "df_test0 = df_test.copy()\n",
    "df_oil0 = df_oil.copy()\n",
    "df_stores0 = df_stores.copy()\n",
    "df_transactions0 = df_transactions.copy()\n",
    "df_holidays0 = df_holidays.copy()"
   ]
  },
  {
   "cell_type": "markdown",
   "metadata": {},
   "source": [
    "## Data exploration"
   ]
  },
  {
   "cell_type": "code",
   "execution_count": 3,
   "metadata": {},
   "outputs": [
    {
     "data": {
      "text/html": [
       "<div>\n",
       "<style scoped>\n",
       "    .dataframe tbody tr th:only-of-type {\n",
       "        vertical-align: middle;\n",
       "    }\n",
       "\n",
       "    .dataframe tbody tr th {\n",
       "        vertical-align: top;\n",
       "    }\n",
       "\n",
       "    .dataframe thead th {\n",
       "        text-align: right;\n",
       "    }\n",
       "</style>\n",
       "<table border=\"1\" class=\"dataframe\">\n",
       "  <thead>\n",
       "    <tr style=\"text-align: right;\">\n",
       "      <th></th>\n",
       "      <th>id</th>\n",
       "      <th>date</th>\n",
       "      <th>store_nbr</th>\n",
       "      <th>family</th>\n",
       "      <th>sales</th>\n",
       "      <th>onpromotion</th>\n",
       "    </tr>\n",
       "  </thead>\n",
       "  <tbody>\n",
       "    <tr>\n",
       "      <th>0</th>\n",
       "      <td>0</td>\n",
       "      <td>2013-01-01</td>\n",
       "      <td>1</td>\n",
       "      <td>AUTOMOTIVE</td>\n",
       "      <td>0.0</td>\n",
       "      <td>0</td>\n",
       "    </tr>\n",
       "    <tr>\n",
       "      <th>1</th>\n",
       "      <td>1</td>\n",
       "      <td>2013-01-01</td>\n",
       "      <td>1</td>\n",
       "      <td>BABY CARE</td>\n",
       "      <td>0.0</td>\n",
       "      <td>0</td>\n",
       "    </tr>\n",
       "    <tr>\n",
       "      <th>2</th>\n",
       "      <td>2</td>\n",
       "      <td>2013-01-01</td>\n",
       "      <td>1</td>\n",
       "      <td>BEAUTY</td>\n",
       "      <td>0.0</td>\n",
       "      <td>0</td>\n",
       "    </tr>\n",
       "    <tr>\n",
       "      <th>3</th>\n",
       "      <td>3</td>\n",
       "      <td>2013-01-01</td>\n",
       "      <td>1</td>\n",
       "      <td>BEVERAGES</td>\n",
       "      <td>0.0</td>\n",
       "      <td>0</td>\n",
       "    </tr>\n",
       "    <tr>\n",
       "      <th>4</th>\n",
       "      <td>4</td>\n",
       "      <td>2013-01-01</td>\n",
       "      <td>1</td>\n",
       "      <td>BOOKS</td>\n",
       "      <td>0.0</td>\n",
       "      <td>0</td>\n",
       "    </tr>\n",
       "  </tbody>\n",
       "</table>\n",
       "</div>"
      ],
      "text/plain": [
       "   id        date  store_nbr      family  sales  onpromotion\n",
       "0   0  2013-01-01          1  AUTOMOTIVE    0.0            0\n",
       "1   1  2013-01-01          1   BABY CARE    0.0            0\n",
       "2   2  2013-01-01          1      BEAUTY    0.0            0\n",
       "3   3  2013-01-01          1   BEVERAGES    0.0            0\n",
       "4   4  2013-01-01          1       BOOKS    0.0            0"
      ]
     },
     "execution_count": 3,
     "metadata": {},
     "output_type": "execute_result"
    }
   ],
   "source": [
    "df_train.head()"
   ]
  },
  {
   "cell_type": "code",
   "execution_count": 4,
   "metadata": {},
   "outputs": [
    {
     "data": {
      "text/html": [
       "<div>\n",
       "<style scoped>\n",
       "    .dataframe tbody tr th:only-of-type {\n",
       "        vertical-align: middle;\n",
       "    }\n",
       "\n",
       "    .dataframe tbody tr th {\n",
       "        vertical-align: top;\n",
       "    }\n",
       "\n",
       "    .dataframe thead th {\n",
       "        text-align: right;\n",
       "    }\n",
       "</style>\n",
       "<table border=\"1\" class=\"dataframe\">\n",
       "  <thead>\n",
       "    <tr style=\"text-align: right;\">\n",
       "      <th></th>\n",
       "      <th>date</th>\n",
       "      <th>type</th>\n",
       "      <th>locale</th>\n",
       "      <th>locale_name</th>\n",
       "      <th>description</th>\n",
       "      <th>transferred</th>\n",
       "    </tr>\n",
       "  </thead>\n",
       "  <tbody>\n",
       "    <tr>\n",
       "      <th>0</th>\n",
       "      <td>2012-03-02</td>\n",
       "      <td>Holiday</td>\n",
       "      <td>Local</td>\n",
       "      <td>Manta</td>\n",
       "      <td>Fundacion de Manta</td>\n",
       "      <td>False</td>\n",
       "    </tr>\n",
       "    <tr>\n",
       "      <th>1</th>\n",
       "      <td>2012-04-01</td>\n",
       "      <td>Holiday</td>\n",
       "      <td>Regional</td>\n",
       "      <td>Cotopaxi</td>\n",
       "      <td>Provincializacion de Cotopaxi</td>\n",
       "      <td>False</td>\n",
       "    </tr>\n",
       "    <tr>\n",
       "      <th>2</th>\n",
       "      <td>2012-04-12</td>\n",
       "      <td>Holiday</td>\n",
       "      <td>Local</td>\n",
       "      <td>Cuenca</td>\n",
       "      <td>Fundacion de Cuenca</td>\n",
       "      <td>False</td>\n",
       "    </tr>\n",
       "    <tr>\n",
       "      <th>3</th>\n",
       "      <td>2012-04-14</td>\n",
       "      <td>Holiday</td>\n",
       "      <td>Local</td>\n",
       "      <td>Libertad</td>\n",
       "      <td>Cantonizacion de Libertad</td>\n",
       "      <td>False</td>\n",
       "    </tr>\n",
       "    <tr>\n",
       "      <th>4</th>\n",
       "      <td>2012-04-21</td>\n",
       "      <td>Holiday</td>\n",
       "      <td>Local</td>\n",
       "      <td>Riobamba</td>\n",
       "      <td>Cantonizacion de Riobamba</td>\n",
       "      <td>False</td>\n",
       "    </tr>\n",
       "  </tbody>\n",
       "</table>\n",
       "</div>"
      ],
      "text/plain": [
       "         date     type    locale locale_name                    description  \\\n",
       "0  2012-03-02  Holiday     Local       Manta             Fundacion de Manta   \n",
       "1  2012-04-01  Holiday  Regional    Cotopaxi  Provincializacion de Cotopaxi   \n",
       "2  2012-04-12  Holiday     Local      Cuenca            Fundacion de Cuenca   \n",
       "3  2012-04-14  Holiday     Local    Libertad      Cantonizacion de Libertad   \n",
       "4  2012-04-21  Holiday     Local    Riobamba      Cantonizacion de Riobamba   \n",
       "\n",
       "   transferred  \n",
       "0        False  \n",
       "1        False  \n",
       "2        False  \n",
       "3        False  \n",
       "4        False  "
      ]
     },
     "execution_count": 4,
     "metadata": {},
     "output_type": "execute_result"
    }
   ],
   "source": [
    "df_holidays.head()"
   ]
  },
  {
   "cell_type": "code",
   "execution_count": 5,
   "metadata": {},
   "outputs": [
    {
     "data": {
      "text/html": [
       "<div>\n",
       "<style scoped>\n",
       "    .dataframe tbody tr th:only-of-type {\n",
       "        vertical-align: middle;\n",
       "    }\n",
       "\n",
       "    .dataframe tbody tr th {\n",
       "        vertical-align: top;\n",
       "    }\n",
       "\n",
       "    .dataframe thead th {\n",
       "        text-align: right;\n",
       "    }\n",
       "</style>\n",
       "<table border=\"1\" class=\"dataframe\">\n",
       "  <thead>\n",
       "    <tr style=\"text-align: right;\">\n",
       "      <th></th>\n",
       "      <th>date</th>\n",
       "      <th>store_nbr</th>\n",
       "      <th>transactions</th>\n",
       "    </tr>\n",
       "  </thead>\n",
       "  <tbody>\n",
       "    <tr>\n",
       "      <th>0</th>\n",
       "      <td>2013-01-01</td>\n",
       "      <td>25</td>\n",
       "      <td>770</td>\n",
       "    </tr>\n",
       "    <tr>\n",
       "      <th>1</th>\n",
       "      <td>2013-01-02</td>\n",
       "      <td>1</td>\n",
       "      <td>2111</td>\n",
       "    </tr>\n",
       "    <tr>\n",
       "      <th>2</th>\n",
       "      <td>2013-01-02</td>\n",
       "      <td>2</td>\n",
       "      <td>2358</td>\n",
       "    </tr>\n",
       "    <tr>\n",
       "      <th>3</th>\n",
       "      <td>2013-01-02</td>\n",
       "      <td>3</td>\n",
       "      <td>3487</td>\n",
       "    </tr>\n",
       "    <tr>\n",
       "      <th>4</th>\n",
       "      <td>2013-01-02</td>\n",
       "      <td>4</td>\n",
       "      <td>1922</td>\n",
       "    </tr>\n",
       "  </tbody>\n",
       "</table>\n",
       "</div>"
      ],
      "text/plain": [
       "         date  store_nbr  transactions\n",
       "0  2013-01-01         25           770\n",
       "1  2013-01-02          1          2111\n",
       "2  2013-01-02          2          2358\n",
       "3  2013-01-02          3          3487\n",
       "4  2013-01-02          4          1922"
      ]
     },
     "execution_count": 5,
     "metadata": {},
     "output_type": "execute_result"
    }
   ],
   "source": [
    "df_transactions.head()"
   ]
  },
  {
   "cell_type": "code",
   "execution_count": 6,
   "metadata": {},
   "outputs": [
    {
     "data": {
      "text/html": [
       "<div>\n",
       "<style scoped>\n",
       "    .dataframe tbody tr th:only-of-type {\n",
       "        vertical-align: middle;\n",
       "    }\n",
       "\n",
       "    .dataframe tbody tr th {\n",
       "        vertical-align: top;\n",
       "    }\n",
       "\n",
       "    .dataframe thead th {\n",
       "        text-align: right;\n",
       "    }\n",
       "</style>\n",
       "<table border=\"1\" class=\"dataframe\">\n",
       "  <thead>\n",
       "    <tr style=\"text-align: right;\">\n",
       "      <th></th>\n",
       "      <th>store_nbr</th>\n",
       "      <th>city</th>\n",
       "      <th>state</th>\n",
       "      <th>type</th>\n",
       "      <th>cluster</th>\n",
       "    </tr>\n",
       "  </thead>\n",
       "  <tbody>\n",
       "    <tr>\n",
       "      <th>0</th>\n",
       "      <td>1</td>\n",
       "      <td>Quito</td>\n",
       "      <td>Pichincha</td>\n",
       "      <td>D</td>\n",
       "      <td>13</td>\n",
       "    </tr>\n",
       "    <tr>\n",
       "      <th>1</th>\n",
       "      <td>2</td>\n",
       "      <td>Quito</td>\n",
       "      <td>Pichincha</td>\n",
       "      <td>D</td>\n",
       "      <td>13</td>\n",
       "    </tr>\n",
       "    <tr>\n",
       "      <th>2</th>\n",
       "      <td>3</td>\n",
       "      <td>Quito</td>\n",
       "      <td>Pichincha</td>\n",
       "      <td>D</td>\n",
       "      <td>8</td>\n",
       "    </tr>\n",
       "    <tr>\n",
       "      <th>3</th>\n",
       "      <td>4</td>\n",
       "      <td>Quito</td>\n",
       "      <td>Pichincha</td>\n",
       "      <td>D</td>\n",
       "      <td>9</td>\n",
       "    </tr>\n",
       "    <tr>\n",
       "      <th>4</th>\n",
       "      <td>5</td>\n",
       "      <td>Santo Domingo</td>\n",
       "      <td>Santo Domingo de los Tsachilas</td>\n",
       "      <td>D</td>\n",
       "      <td>4</td>\n",
       "    </tr>\n",
       "  </tbody>\n",
       "</table>\n",
       "</div>"
      ],
      "text/plain": [
       "   store_nbr           city                           state type  cluster\n",
       "0          1          Quito                       Pichincha    D       13\n",
       "1          2          Quito                       Pichincha    D       13\n",
       "2          3          Quito                       Pichincha    D        8\n",
       "3          4          Quito                       Pichincha    D        9\n",
       "4          5  Santo Domingo  Santo Domingo de los Tsachilas    D        4"
      ]
     },
     "execution_count": 6,
     "metadata": {},
     "output_type": "execute_result"
    }
   ],
   "source": [
    "df_stores.head()"
   ]
  },
  {
   "cell_type": "code",
   "execution_count": 7,
   "metadata": {},
   "outputs": [
    {
     "data": {
      "text/plain": [
       "id             0\n",
       "date           0\n",
       "store_nbr      0\n",
       "family         0\n",
       "sales          0\n",
       "onpromotion    0\n",
       "dtype: int64"
      ]
     },
     "execution_count": 7,
     "metadata": {},
     "output_type": "execute_result"
    }
   ],
   "source": [
    "# Check for nulls, NaNs, duplicates\n",
    "df_train.isna().sum()"
   ]
  },
  {
   "cell_type": "code",
   "execution_count": 8,
   "metadata": {},
   "outputs": [
    {
     "data": {
      "text/plain": [
       "date           0\n",
       "dcoilwtico    43\n",
       "dtype: int64"
      ]
     },
     "execution_count": 8,
     "metadata": {},
     "output_type": "execute_result"
    }
   ],
   "source": [
    "# Oil is the only dataframe that has nulls. We'll want to impute the values. (Would probably make sense to average out the day before and after for price)\n",
    "df_oil.isna().sum()"
   ]
  },
  {
   "cell_type": "code",
   "execution_count": 9,
   "metadata": {},
   "outputs": [
    {
     "name": "stdout",
     "output_type": "stream",
     "text": [
      "Duplicates Training:  0\n",
      "Duplicates Oil:  0\n",
      "Duplicates Transactions:  0\n",
      "Duplicates Stores:  0\n",
      "Duplicates Holidays:  0\n"
     ]
    }
   ],
   "source": [
    "# Check for duplicates\n",
    "print('Duplicates Training: ', df_train.duplicated().sum())\n",
    "print('Duplicates Oil: ', df_oil.duplicated().sum())\n",
    "print('Duplicates Transactions: ', df_transactions.duplicated().sum())\n",
    "print('Duplicates Stores: ', df_stores.duplicated().sum())\n",
    "print('Duplicates Holidays: ', df_holidays.duplicated().sum())"
   ]
  },
  {
   "cell_type": "markdown",
   "metadata": {},
   "source": [
    "## Data Preprocessing"
   ]
  },
  {
   "cell_type": "markdown",
   "metadata": {},
   "source": [
    "### Imputing values in oil"
   ]
  },
  {
   "cell_type": "code",
   "execution_count": 10,
   "metadata": {},
   "outputs": [],
   "source": [
    "# Impute the values for the oil dataframe\n",
    "\n",
    "# Function to calculate median of adjacent rows\n",
    "def median_of_adjacent(row_index, df):\n",
    "    if row_index == 0:\n",
    "        # If it's the first row, take the median with the next row\n",
    "        return np.median([df.loc[row_index, 'dcoilwtico'], df.loc[row_index + 1, 'dcoilwtico']])\n",
    "    elif row_index == len(df) - 1:\n",
    "        # If it's the last row, take the median with the previous row\n",
    "        return np.median([df.loc[row_index, 'dcoilwtico'], df.loc[row_index - 1, 'dcoilwtico']])\n",
    "    else:\n",
    "        # Otherwise, take the median of the previous and next rows\n",
    "        return np.median([df.loc[row_index - 1, 'dcoilwtico'], df.loc[row_index + 1, 'dcoilwtico']])\n",
    "\n",
    "# Find indices of missing values\n",
    "missing_indices = df_oil[df_oil['dcoilwtico'].isna()].index\n",
    "\n",
    "# Fill missing values\n",
    "for idx in missing_indices:\n",
    "    df_oil.at[idx, 'dcoilwtico'] = median_of_adjacent(idx, df_oil)"
   ]
  },
  {
   "cell_type": "markdown",
   "metadata": {},
   "source": [
    "### Dealing with Holidays\n",
    "\n",
    "There are a few cases of holidays. \n",
    "\n",
    "1. There are National, Local and Regional holidays. I should apply National holidays to all stores, and local/regional ones only when locale matches.\n",
    "2. Transfers. Holidays that are transferred should not be considered Holidays, but rather the day that it was transferred to should be the holiday.\n",
    "\n",
    "I want the additional column in my df_train: 'is_holiday', 'holiday_type', 'holiday_description','holiday_transferred'"
   ]
  },
  {
   "cell_type": "code",
   "execution_count": 11,
   "metadata": {},
   "outputs": [],
   "source": [
    "# make sure data is a datetime object\n",
    "df_holidays['date'] = pd.to_datetime(df_holidays['date'])"
   ]
  },
  {
   "cell_type": "markdown",
   "metadata": {},
   "source": [
    "I think it will be easier if I split apart the holidays by type"
   ]
  },
  {
   "cell_type": "code",
   "execution_count": 12,
   "metadata": {},
   "outputs": [
    {
     "data": {
      "text/plain": [
       "locale\n",
       "National    174\n",
       "Local       152\n",
       "Regional     24\n",
       "Name: count, dtype: int64"
      ]
     },
     "execution_count": 12,
     "metadata": {},
     "output_type": "execute_result"
    }
   ],
   "source": [
    "df_holidays['locale'].value_counts()"
   ]
  },
  {
   "cell_type": "code",
   "execution_count": 13,
   "metadata": {},
   "outputs": [
    {
     "data": {
      "text/plain": [
       "0                      Fundacion de Manta\n",
       "1           Provincializacion de Cotopaxi\n",
       "2                     Fundacion de Cuenca\n",
       "3               Cantonizacion de Libertad\n",
       "4               Cantonizacion de Riobamba\n",
       "5                  Cantonizacion del Puyo\n",
       "6               Cantonizacion de Guaranda\n",
       "7           Provincializacion de Imbabura\n",
       "8              Cantonizacion de Latacunga\n",
       "9                    Fundacion de Machala\n",
       "10             Fundacion de Santo Domingo\n",
       "11             Cantonizacion de El Carmen\n",
       "12               Cantonizacion de Cayambe\n",
       "13                Fundacion de Esmeraldas\n",
       "14          Primer Grito de Independencia\n",
       "15                  Fundacion de Riobamba\n",
       "16                    Fundacion de Ambato\n",
       "17                    Fundacion de Ibarra\n",
       "18               Cantonizacion de Quevedo\n",
       "19             Independencia de Guayaquil\n",
       "20    Traslado Independencia de Guayaquil\n",
       "21                        Dia de Difuntos\n",
       "22                Independencia de Cuenca\n",
       "23     Provincializacion de Santo Domingo\n",
       "24          Provincializacion Santa Elena\n",
       "25              Independencia de Guaranda\n",
       "26             Independencia de Latacunga\n",
       "27                Independencia de Ambato\n",
       "28                   Fundacion de Quito-1\n",
       "29                     Fundacion de Quito\n",
       "Name: description, dtype: object"
      ]
     },
     "execution_count": 13,
     "metadata": {},
     "output_type": "execute_result"
    }
   ],
   "source": [
    "df_holidays['description'].head(30)"
   ]
  },
  {
   "cell_type": "markdown",
   "metadata": {},
   "source": [
    "I want to change the descriptions to remove \"Translado\", so that the holidays can get grouped together in the regression. The holiday type Translated is already there."
   ]
  },
  {
   "cell_type": "code",
   "execution_count": 14,
   "metadata": {},
   "outputs": [],
   "source": [
    "df_holidays['description'] = df_holidays['description'].str.replace('Traslado ', '', regex=False)"
   ]
  },
  {
   "cell_type": "code",
   "execution_count": 15,
   "metadata": {},
   "outputs": [],
   "source": [
    "df_holidays_national = df_holidays.loc[df_holidays['locale'] == 'National']\n",
    "df_holidays_local = df_holidays.loc[df_holidays['locale'] == 'Local']\n",
    "df_holidays_regional = df_holidays.loc[df_holidays['locale'] == 'Regional']\n",
    "\n",
    "# prep the column names to be merged into datasets uniquely\n",
    "df_holidays_national = df_holidays_national.rename(columns={\n",
    "        'type': 'holiday_type_n',\n",
    "        'description': 'holiday_description_n',\n",
    "        'transferred': 'holiday_transferred_n'\n",
    "    })\n",
    "\n",
    "df_holidays_local = df_holidays_local.rename(columns={\n",
    "        'type': 'holiday_type_l',\n",
    "        'description': 'holiday_description_l',\n",
    "        'transferred': 'holiday_transferred_l'\n",
    "    })\n",
    "\n",
    "df_holidays_regional = df_holidays_regional.rename(columns={\n",
    "        'type': 'holiday_type_r',\n",
    "        'description': 'holiday_description_r',\n",
    "        'transferred': 'holiday_transferred_r'\n",
    "    })"
   ]
  },
  {
   "cell_type": "code",
   "execution_count": 16,
   "metadata": {},
   "outputs": [
    {
     "data": {
      "text/plain": [
       "array(['Pichincha', 'Santo Domingo de los Tsachilas', 'Cotopaxi',\n",
       "       'Chimborazo', 'Imbabura', 'Bolivar', 'Pastaza', 'Tungurahua',\n",
       "       'Guayas', 'Santa Elena', 'Los Rios', 'Azuay', 'Loja', 'El Oro',\n",
       "       'Esmeraldas', 'Manabi'], dtype=object)"
      ]
     },
     "execution_count": 16,
     "metadata": {},
     "output_type": "execute_result"
    }
   ],
   "source": [
    "df_stores['state'].unique()"
   ]
  },
  {
   "cell_type": "code",
   "execution_count": 17,
   "metadata": {},
   "outputs": [
    {
     "data": {
      "text/plain": [
       "array(['Cotopaxi', 'Imbabura', 'Santo Domingo de los Tsachilas',\n",
       "       'Santa Elena'], dtype=object)"
      ]
     },
     "execution_count": 17,
     "metadata": {},
     "output_type": "execute_result"
    }
   ],
   "source": [
    "df_holidays_regional['locale_name'].unique()"
   ]
  },
  {
   "cell_type": "markdown",
   "metadata": {},
   "source": [
    "The regional holidays are statewide holidays. Need should match up date, state\n",
    "\n",
    "The local holidays are city-wide holidays. Need to match up date, city"
   ]
  },
  {
   "cell_type": "markdown",
   "metadata": {},
   "source": [
    "## Joining the dataframes"
   ]
  },
  {
   "cell_type": "code",
   "execution_count": 18,
   "metadata": {},
   "outputs": [],
   "source": [
    "# Use the different holidays dataframes to apply holiday data. Need the have the store info merged in before calling this\n",
    "def fill_holidays(df0):\n",
    "    df = df0.copy()\n",
    "    df['date'] = pd.to_datetime(df['date'])\n",
    "\n",
    "    # Merge the national dataframe on 'date' alone\n",
    "    df = df.merge(df_holidays_national[['date', 'holiday_type_n', 'holiday_description_n', 'holiday_transferred_n']], \n",
    "                  on='date', how='left')\n",
    "    \n",
    "    # Merge the regional dataframe on 'date' and 'state'\n",
    "    df = df.merge(df_holidays_regional[['date', 'locale_name', 'holiday_type_r', 'holiday_description_r', 'holiday_transferred_r']], \n",
    "                left_on=['date', 'state'], \n",
    "                right_on=['date', 'locale_name'], \n",
    "                how='left')\n",
    "\n",
    "    df.drop('locale_name', axis=1, inplace=True)\n",
    "        \n",
    "    # Merge the local dataframe on 'date' and 'city'\n",
    "    df = df.merge(df_holidays_local[['date', 'locale_name', 'holiday_type_l', 'holiday_description_l', 'holiday_transferred_l']], \n",
    "                  left_on=['date','city'], right_on=['date','locale_name'], how='left')\n",
    "    \n",
    "    df.drop('locale_name', axis=1, inplace=True)\n",
    "\n",
    "    # Fill NaN values for non-matching rows\n",
    "    df['holiday_type_n'] = df['holiday_type_n'].fillna('None')\n",
    "    df['holiday_description_n'] = df['holiday_description_n'].fillna('NA')\n",
    "    df['holiday_transferred_n'] = df['holiday_transferred_n'].fillna('NA')\n",
    "    \n",
    "    df['holiday_type_r'] = df['holiday_type_r'].fillna('None')\n",
    "    df['holiday_description_r'] = df['holiday_description_r'].fillna('NA')\n",
    "    df['holiday_transferred_r'] = df['holiday_transferred_r'].fillna('NA')\n",
    "\n",
    "    df['holiday_type_l'] = df['holiday_type_l'].fillna('None')\n",
    "    df['holiday_description_l'] = df['holiday_description_l'].fillna('NA')\n",
    "    df['holiday_transferred_l'] = df['holiday_transferred_l'].fillna('NA')\n",
    "\n",
    "    return df\n",
    "\n",
    "# Join all the dataframes together\n",
    "def join_all_to_df(df0):\n",
    "    df = df0.copy()\n",
    "    # Join oil\n",
    "    df = pd.merge(df, df_oil, on='date', how='left')\n",
    "    # Join stores\n",
    "    df = pd.merge(df, df_stores, on='store_nbr', how='left')\n",
    "    # Join transactions\n",
    "    df = pd.merge(df, df_transactions, left_on=['date','store_nbr'], right_on=['date','store_nbr'], how='left')\n",
    "    # Join holidays\n",
    "    df = fill_holidays(df)\n",
    "\n",
    "    return df"
   ]
  },
  {
   "cell_type": "code",
   "execution_count": 19,
   "metadata": {},
   "outputs": [],
   "source": [
    "df_train = join_all_to_df(df_train)"
   ]
  },
  {
   "cell_type": "code",
   "execution_count": 20,
   "metadata": {},
   "outputs": [
    {
     "data": {
      "text/html": [
       "<div>\n",
       "<style scoped>\n",
       "    .dataframe tbody tr th:only-of-type {\n",
       "        vertical-align: middle;\n",
       "    }\n",
       "\n",
       "    .dataframe tbody tr th {\n",
       "        vertical-align: top;\n",
       "    }\n",
       "\n",
       "    .dataframe thead th {\n",
       "        text-align: right;\n",
       "    }\n",
       "</style>\n",
       "<table border=\"1\" class=\"dataframe\">\n",
       "  <thead>\n",
       "    <tr style=\"text-align: right;\">\n",
       "      <th></th>\n",
       "      <th>id</th>\n",
       "      <th>date</th>\n",
       "      <th>store_nbr</th>\n",
       "      <th>family</th>\n",
       "      <th>sales</th>\n",
       "      <th>onpromotion</th>\n",
       "      <th>dcoilwtico</th>\n",
       "      <th>city</th>\n",
       "      <th>state</th>\n",
       "      <th>type</th>\n",
       "      <th>...</th>\n",
       "      <th>transactions</th>\n",
       "      <th>holiday_type_n</th>\n",
       "      <th>holiday_description_n</th>\n",
       "      <th>holiday_transferred_n</th>\n",
       "      <th>holiday_type_r</th>\n",
       "      <th>holiday_description_r</th>\n",
       "      <th>holiday_transferred_r</th>\n",
       "      <th>holiday_type_l</th>\n",
       "      <th>holiday_description_l</th>\n",
       "      <th>holiday_transferred_l</th>\n",
       "    </tr>\n",
       "  </thead>\n",
       "  <tbody>\n",
       "    <tr>\n",
       "      <th>0</th>\n",
       "      <td>0</td>\n",
       "      <td>2013-01-01</td>\n",
       "      <td>1</td>\n",
       "      <td>AUTOMOTIVE</td>\n",
       "      <td>0.0</td>\n",
       "      <td>0</td>\n",
       "      <td>NaN</td>\n",
       "      <td>Quito</td>\n",
       "      <td>Pichincha</td>\n",
       "      <td>D</td>\n",
       "      <td>...</td>\n",
       "      <td>NaN</td>\n",
       "      <td>Holiday</td>\n",
       "      <td>Primer dia del ano</td>\n",
       "      <td>False</td>\n",
       "      <td>None</td>\n",
       "      <td>NA</td>\n",
       "      <td>NA</td>\n",
       "      <td>None</td>\n",
       "      <td>NA</td>\n",
       "      <td>NA</td>\n",
       "    </tr>\n",
       "    <tr>\n",
       "      <th>1</th>\n",
       "      <td>1</td>\n",
       "      <td>2013-01-01</td>\n",
       "      <td>1</td>\n",
       "      <td>BABY CARE</td>\n",
       "      <td>0.0</td>\n",
       "      <td>0</td>\n",
       "      <td>NaN</td>\n",
       "      <td>Quito</td>\n",
       "      <td>Pichincha</td>\n",
       "      <td>D</td>\n",
       "      <td>...</td>\n",
       "      <td>NaN</td>\n",
       "      <td>Holiday</td>\n",
       "      <td>Primer dia del ano</td>\n",
       "      <td>False</td>\n",
       "      <td>None</td>\n",
       "      <td>NA</td>\n",
       "      <td>NA</td>\n",
       "      <td>None</td>\n",
       "      <td>NA</td>\n",
       "      <td>NA</td>\n",
       "    </tr>\n",
       "    <tr>\n",
       "      <th>2</th>\n",
       "      <td>2</td>\n",
       "      <td>2013-01-01</td>\n",
       "      <td>1</td>\n",
       "      <td>BEAUTY</td>\n",
       "      <td>0.0</td>\n",
       "      <td>0</td>\n",
       "      <td>NaN</td>\n",
       "      <td>Quito</td>\n",
       "      <td>Pichincha</td>\n",
       "      <td>D</td>\n",
       "      <td>...</td>\n",
       "      <td>NaN</td>\n",
       "      <td>Holiday</td>\n",
       "      <td>Primer dia del ano</td>\n",
       "      <td>False</td>\n",
       "      <td>None</td>\n",
       "      <td>NA</td>\n",
       "      <td>NA</td>\n",
       "      <td>None</td>\n",
       "      <td>NA</td>\n",
       "      <td>NA</td>\n",
       "    </tr>\n",
       "    <tr>\n",
       "      <th>3</th>\n",
       "      <td>3</td>\n",
       "      <td>2013-01-01</td>\n",
       "      <td>1</td>\n",
       "      <td>BEVERAGES</td>\n",
       "      <td>0.0</td>\n",
       "      <td>0</td>\n",
       "      <td>NaN</td>\n",
       "      <td>Quito</td>\n",
       "      <td>Pichincha</td>\n",
       "      <td>D</td>\n",
       "      <td>...</td>\n",
       "      <td>NaN</td>\n",
       "      <td>Holiday</td>\n",
       "      <td>Primer dia del ano</td>\n",
       "      <td>False</td>\n",
       "      <td>None</td>\n",
       "      <td>NA</td>\n",
       "      <td>NA</td>\n",
       "      <td>None</td>\n",
       "      <td>NA</td>\n",
       "      <td>NA</td>\n",
       "    </tr>\n",
       "    <tr>\n",
       "      <th>4</th>\n",
       "      <td>4</td>\n",
       "      <td>2013-01-01</td>\n",
       "      <td>1</td>\n",
       "      <td>BOOKS</td>\n",
       "      <td>0.0</td>\n",
       "      <td>0</td>\n",
       "      <td>NaN</td>\n",
       "      <td>Quito</td>\n",
       "      <td>Pichincha</td>\n",
       "      <td>D</td>\n",
       "      <td>...</td>\n",
       "      <td>NaN</td>\n",
       "      <td>Holiday</td>\n",
       "      <td>Primer dia del ano</td>\n",
       "      <td>False</td>\n",
       "      <td>None</td>\n",
       "      <td>NA</td>\n",
       "      <td>NA</td>\n",
       "      <td>None</td>\n",
       "      <td>NA</td>\n",
       "      <td>NA</td>\n",
       "    </tr>\n",
       "  </tbody>\n",
       "</table>\n",
       "<p>5 rows × 21 columns</p>\n",
       "</div>"
      ],
      "text/plain": [
       "   id       date  store_nbr      family  sales  onpromotion  dcoilwtico  \\\n",
       "0   0 2013-01-01          1  AUTOMOTIVE    0.0            0         NaN   \n",
       "1   1 2013-01-01          1   BABY CARE    0.0            0         NaN   \n",
       "2   2 2013-01-01          1      BEAUTY    0.0            0         NaN   \n",
       "3   3 2013-01-01          1   BEVERAGES    0.0            0         NaN   \n",
       "4   4 2013-01-01          1       BOOKS    0.0            0         NaN   \n",
       "\n",
       "    city      state type  ...  transactions  holiday_type_n  \\\n",
       "0  Quito  Pichincha    D  ...           NaN         Holiday   \n",
       "1  Quito  Pichincha    D  ...           NaN         Holiday   \n",
       "2  Quito  Pichincha    D  ...           NaN         Holiday   \n",
       "3  Quito  Pichincha    D  ...           NaN         Holiday   \n",
       "4  Quito  Pichincha    D  ...           NaN         Holiday   \n",
       "\n",
       "  holiday_description_n holiday_transferred_n holiday_type_r  \\\n",
       "0    Primer dia del ano                 False           None   \n",
       "1    Primer dia del ano                 False           None   \n",
       "2    Primer dia del ano                 False           None   \n",
       "3    Primer dia del ano                 False           None   \n",
       "4    Primer dia del ano                 False           None   \n",
       "\n",
       "  holiday_description_r holiday_transferred_r holiday_type_l  \\\n",
       "0                    NA                    NA           None   \n",
       "1                    NA                    NA           None   \n",
       "2                    NA                    NA           None   \n",
       "3                    NA                    NA           None   \n",
       "4                    NA                    NA           None   \n",
       "\n",
       "  holiday_description_l holiday_transferred_l  \n",
       "0                    NA                    NA  \n",
       "1                    NA                    NA  \n",
       "2                    NA                    NA  \n",
       "3                    NA                    NA  \n",
       "4                    NA                    NA  \n",
       "\n",
       "[5 rows x 21 columns]"
      ]
     },
     "execution_count": 20,
     "metadata": {},
     "output_type": "execute_result"
    }
   ],
   "source": [
    "df_train.head()"
   ]
  },
  {
   "cell_type": "markdown",
   "metadata": {},
   "source": [
    "## Observations\n",
    "\n",
    "Looks like there is 1218 unique dates in oil, and 1600 in train. This leads to about 28% of the merged data being na. Something to keep an eye on.\n",
    "\n",
    "Transactions has some missing too, about 8%. I also see some rows with no transactions and the sales are 0. Maybe these are holidays?"
   ]
  },
  {
   "cell_type": "code",
   "execution_count": 21,
   "metadata": {},
   "outputs": [
    {
     "data": {
      "text/plain": [
       "count          83488\n",
       "unique          1682\n",
       "top       2017-08-15\n",
       "freq              54\n",
       "Name: date, dtype: object"
      ]
     },
     "execution_count": 21,
     "metadata": {},
     "output_type": "execute_result"
    }
   ],
   "source": [
    "# Looks like there is 1218 unique dates in oil, and 1600 in train. This leads to about 28% of the merged data being na. Something to keep an eye on.\n",
    "# Trnasactions has some missing too, about 8%\n",
    "df_train.date.describe()\n",
    "df_oil.date.describe()\n",
    "df_transactions.date.describe()"
   ]
  },
  {
   "cell_type": "code",
   "execution_count": 22,
   "metadata": {},
   "outputs": [
    {
     "name": "stdout",
     "output_type": "stream",
     "text": [
      "Oil price missing 28.670469504168494\n",
      "Transactions missing 8.170250109697236\n"
     ]
    }
   ],
   "source": [
    "# Looks like there is 1218 unique dates in oil, and 1600 in train. This leads to about 28% of the merged data being na. Something to keep an eye on.\n",
    "# Trnasactions has some missing too, about 8%\n",
    "df_train.isna().sum()\n",
    "\n",
    "print('Oil price missing', 862488*100 / df_train.shape[0])\n",
    "print('Transactions missing', 245784*100 / df_train.shape[0])"
   ]
  },
  {
   "cell_type": "code",
   "execution_count": 23,
   "metadata": {},
   "outputs": [
    {
     "data": {
      "text/plain": [
       "<Axes: xlabel='date'>"
      ]
     },
     "execution_count": 23,
     "metadata": {},
     "output_type": "execute_result"
    },
    {
     "data": {
      "image/png": "[encoded data removed]",
      "text/plain": [
       "<Figure size 1500x500 with 1 Axes>"
      ]
     },
     "metadata": {},
     "output_type": "display_data"
    }
   ],
   "source": [
    "df_train.plot(x='date', y='sales', figsize=(15,5))"
   ]
  },
  {
   "cell_type": "markdown",
   "metadata": {},
   "source": [
    "# Data preprocessing"
   ]
  },
  {
   "cell_type": "code",
   "execution_count": 24,
   "metadata": {},
   "outputs": [],
   "source": [
    "def create_features(df0):\n",
    "    df = df0.copy()\n",
    "    df['date'] = pd.to_datetime(df['date'])\n",
    "    df['dayofweek'] = df.date.dt.dayofweek\n",
    "    df['dayofyear'] = df.date.dt.dayofyear\n",
    "    df['quarter'] = df.date.dt.quarter\n",
    "    df['month'] = df.date.dt.month\n",
    "    df['year'] = df.date.dt.year\n",
    "    df['day'] = df.date.dt.day\n",
    "    df.drop('date', axis=1, inplace=True)\n",
    "    return df"
   ]
  },
  {
   "cell_type": "code",
   "execution_count": 25,
   "metadata": {},
   "outputs": [],
   "source": [
    "df_train = create_features(df_train)\n",
    "\n",
    "# get dummies and drop id\n",
    "df_train.drop('id', axis=1, inplace=True)\n",
    "df_train = pd.get_dummies(df_train)"
   ]
  },
  {
   "cell_type": "markdown",
   "metadata": {},
   "source": [
    "# Create a model"
   ]
  },
  {
   "cell_type": "code",
   "execution_count": 26,
   "metadata": {},
   "outputs": [],
   "source": [
    "# Split the data. Lets pick a date to split on, and we want year as a feature so we'll split at 2016\n",
    "train_set = df_train.loc[df_train['year'] < 2016]\n",
    "test_set = df_train.loc[df_train['year'] >= 2016]"
   ]
  },
  {
   "cell_type": "code",
   "execution_count": 32,
   "metadata": {},
   "outputs": [],
   "source": [
    "import xgboost as xgb\n",
    "\n",
    "# Set up a regressor\n",
    "xgb_reg = xgb.XGBRegressor(n_estimators=300, learning_rate = 0.05, early_stopping_rounds=50, random_state=42)\n",
    "\n",
    "# This regressor for using the squared log error produced results where all the predictions were between 1 and 2. Poor results. \n",
    "# xgb_reg = xgb.XGBRegressor(objective='reg:squaredlogerror'n_estimators=500, learning_rate = 0.01, early_stopping_rounds=25, random_state=42)\n",
    "\n",
    "y_train = train_set['sales']\n",
    "y_test = test_set['sales']\n",
    "X_train = train_set.drop('sales', axis=1)\n",
    "X_test = test_set.drop('sales', axis=1)\n"
   ]
  },
  {
   "cell_type": "code",
   "execution_count": 33,
   "metadata": {},
   "outputs": [
    {
     "name": "stdout",
     "output_type": "stream",
     "text": [
      "[0]\tvalidation_0-rmse:1286.99382\n",
      "[50]\tvalidation_0-rmse:612.62224\n",
      "[100]\tvalidation_0-rmse:555.27115\n",
      "[150]\tvalidation_0-rmse:545.71916\n",
      "[200]\tvalidation_0-rmse:537.78176\n",
      "[250]\tvalidation_0-rmse:536.10555\n",
      "[299]\tvalidation_0-rmse:539.14615\n"
     ]
    },
    {
     "data": {
      "text/html": [
       "<style>#sk-container-id-2 {color: black;}#sk-container-id-2 pre{padding: 0;}#sk-container-id-2 div.sk-toggleable {background-color: white;}#sk-container-id-2 label.sk-toggleable__label {cursor: pointer;display: block;width: 100%;margin-bottom: 0;padding: 0.3em;box-sizing: border-box;text-align: center;}#sk-container-id-2 label.sk-toggleable__label-arrow:before {content: \"▸\";float: left;margin-right: 0.25em;color: #696969;}#sk-container-id-2 label.sk-toggleable__label-arrow:hover:before {color: black;}#sk-container-id-2 div.sk-estimator:hover label.sk-toggleable__label-arrow:before {color: black;}#sk-container-id-2 div.sk-toggleable__content {max-height: 0;max-width: 0;overflow: hidden;text-align: left;background-color: #f0f8ff;}#sk-container-id-2 div.sk-toggleable__content pre {margin: 0.2em;color: black;border-radius: 0.25em;background-color: #f0f8ff;}#sk-container-id-2 input.sk-toggleable__control:checked~div.sk-toggleable__content {max-height: 200px;max-width: 100%;overflow: auto;}#sk-container-id-2 input.sk-toggleable__control:checked~label.sk-toggleable__label-arrow:before {content: \"▾\";}#sk-container-id-2 div.sk-estimator input.sk-toggleable__control:checked~label.sk-toggleable__label {background-color: #d4ebff;}#sk-container-id-2 div.sk-label input.sk-toggleable__control:checked~label.sk-toggleable__label {background-color: #d4ebff;}#sk-container-id-2 input.sk-hidden--visually {border: 0;clip: rect(1px 1px 1px 1px);clip: rect(1px, 1px, 1px, 1px);height: 1px;margin: -1px;overflow: hidden;padding: 0;position: absolute;width: 1px;}#sk-container-id-2 div.sk-estimator {font-family: monospace;background-color: #f0f8ff;border: 1px dotted black;border-radius: 0.25em;box-sizing: border-box;margin-bottom: 0.5em;}#sk-container-id-2 div.sk-estimator:hover {background-color: #d4ebff;}#sk-container-id-2 div.sk-parallel-item::after {content: \"\";width: 100%;border-bottom: 1px solid gray;flex-grow: 1;}#sk-container-id-2 div.sk-label:hover label.sk-toggleable__label {background-color: #d4ebff;}#sk-container-id-2 div.sk-serial::before {content: \"\";position: absolute;border-left: 1px solid gray;box-sizing: border-box;top: 0;bottom: 0;left: 50%;z-index: 0;}#sk-container-id-2 div.sk-serial {display: flex;flex-direction: column;align-items: center;background-color: white;padding-right: 0.2em;padding-left: 0.2em;position: relative;}#sk-container-id-2 div.sk-item {position: relative;z-index: 1;}#sk-container-id-2 div.sk-parallel {display: flex;align-items: stretch;justify-content: center;background-color: white;position: relative;}#sk-container-id-2 div.sk-item::before, #sk-container-id-2 div.sk-parallel-item::before {content: \"\";position: absolute;border-left: 1px solid gray;box-sizing: border-box;top: 0;bottom: 0;left: 50%;z-index: -1;}#sk-container-id-2 div.sk-parallel-item {display: flex;flex-direction: column;z-index: 1;position: relative;background-color: white;}#sk-container-id-2 div.sk-parallel-item:first-child::after {align-self: flex-end;width: 50%;}#sk-container-id-2 div.sk-parallel-item:last-child::after {align-self: flex-start;width: 50%;}#sk-container-id-2 div.sk-parallel-item:only-child::after {width: 0;}#sk-container-id-2 div.sk-dashed-wrapped {border: 1px dashed gray;margin: 0 0.4em 0.5em 0.4em;box-sizing: border-box;padding-bottom: 0.4em;background-color: white;}#sk-container-id-2 div.sk-label label {font-family: monospace;font-weight: bold;display: inline-block;line-height: 1.2em;}#sk-container-id-2 div.sk-label-container {text-align: center;}#sk-container-id-2 div.sk-container {/* jupyter's `normalize.less` sets `[hidden] { display: none; }` but bootstrap.min.css set `[hidden] { display: none !important; }` so we also need the `!important` here to be able to override the default hidden behavior on the sphinx rendered scikit-learn.org. See: https://github.com/scikit-learn/scikit-learn/issues/21755 */display: inline-block !important;position: relative;}#sk-container-id-2 div.sk-text-repr-fallback {display: none;}</style><div id=\"sk-container-id-2\" class=\"sk-top-container\"><div class=\"sk-text-repr-fallback\"><pre>XGBRegressor(base_score=None, booster=None, callbacks=None,\n",
       "             colsample_bylevel=None, colsample_bynode=None,\n",
       "             colsample_bytree=None, device=None, early_stopping_rounds=50,\n",
       "             enable_categorical=False, eval_metric=None, feature_types=None,\n",
       "             gamma=None, grow_policy=None, importance_type=None,\n",
       "             interaction_constraints=None, learning_rate=0.05, max_bin=None,\n",
       "             max_cat_threshold=None, max_cat_to_onehot=None,\n",
       "             max_delta_step=None, max_depth=None, max_leaves=None,\n",
       "             min_child_weight=None, missing=nan, monotone_constraints=None,\n",
       "             multi_strategy=None, n_estimators=300, n_jobs=None,\n",
       "             num_parallel_tree=None, random_state=42, ...)</pre><b>In a Jupyter environment, please rerun this cell to show the HTML representation or trust the notebook. <br />On GitHub, the HTML representation is unable to render, please try loading this page with nbviewer.org.</b></div><div class=\"sk-container\" hidden><div class=\"sk-item\"><div class=\"sk-estimator sk-toggleable\"><input class=\"sk-toggleable__control sk-hidden--visually\" id=\"sk-estimator-id-2\" type=\"checkbox\" checked><label for=\"sk-estimator-id-2\" class=\"sk-toggleable__label sk-toggleable__label-arrow\">XGBRegressor</label><div class=\"sk-toggleable__content\"><pre>XGBRegressor(base_score=None, booster=None, callbacks=None,\n",
       "             colsample_bylevel=None, colsample_bynode=None,\n",
       "             colsample_bytree=None, device=None, early_stopping_rounds=50,\n",
       "             enable_categorical=False, eval_metric=None, feature_types=None,\n",
       "             gamma=None, grow_policy=None, importance_type=None,\n",
       "             interaction_constraints=None, learning_rate=0.05, max_bin=None,\n",
       "             max_cat_threshold=None, max_cat_to_onehot=None,\n",
       "             max_delta_step=None, max_depth=None, max_leaves=None,\n",
       "             min_child_weight=None, missing=nan, monotone_constraints=None,\n",
       "             multi_strategy=None, n_estimators=300, n_jobs=None,\n",
       "             num_parallel_tree=None, random_state=42, ...)</pre></div></div></div></div></div>"
      ],
      "text/plain": [
       "XGBRegressor(base_score=None, booster=None, callbacks=None,\n",
       "             colsample_bylevel=None, colsample_bynode=None,\n",
       "             colsample_bytree=None, device=None, early_stopping_rounds=50,\n",
       "             enable_categorical=False, eval_metric=None, feature_types=None,\n",
       "             gamma=None, grow_policy=None, importance_type=None,\n",
       "             interaction_constraints=None, learning_rate=0.05, max_bin=None,\n",
       "             max_cat_threshold=None, max_cat_to_onehot=None,\n",
       "             max_delta_step=None, max_depth=None, max_leaves=None,\n",
       "             min_child_weight=None, missing=nan, monotone_constraints=None,\n",
       "             multi_strategy=None, n_estimators=300, n_jobs=None,\n",
       "             num_parallel_tree=None, random_state=42, ...)"
      ]
     },
     "execution_count": 33,
     "metadata": {},
     "output_type": "execute_result"
    }
   ],
   "source": [
    "xgb_reg.fit(X_train, y_train, eval_set=[(X_test, y_test)], verbose=50)\n",
    "\n",
    "#import pickle\n",
    "#path = './'\n",
    "\n",
    "#with open(path+'xgb_reg_model.pickle', 'rb') as to_read:\n",
    "#    xgb_reg = pickle.load(to_read)"
   ]
  },
  {
   "cell_type": "code",
   "execution_count": 34,
   "metadata": {},
   "outputs": [],
   "source": [
    "# save the model\n",
    "import pickle\n",
    "\n",
    "path = './'\n",
    "\n",
    "with open(path+'xgb_reg_model.pickle', 'wb') as to_write:\n",
    "    pickle.dump(xgb_reg, to_write)"
   ]
  },
  {
   "cell_type": "markdown",
   "metadata": {},
   "source": [
    "# Evaluate the model"
   ]
  },
  {
   "cell_type": "code",
   "execution_count": 35,
   "metadata": {},
   "outputs": [],
   "source": [
    "y_preds = xgb_reg.predict(X_test)\n",
    "\n",
    "train_set_final = X_train\n",
    "train_set_final['sales'] = y_train\n",
    "\n",
    "test_set_final = X_test\n",
    "test_set_final['sales_pred'] = y_preds\n",
    "test_set_final['sales_actual'] = y_test"
   ]
  },
  {
   "cell_type": "markdown",
   "metadata": {},
   "source": [
    "### Evaluation Metric"
   ]
  },
  {
   "cell_type": "markdown",
   "metadata": {},
   "source": [
    "It looks like we have negative predictions, which won't work with mean squared log error. In this case, it doesn't make sense to have negative sales anyways. There might be something wrong with our model."
   ]
  },
  {
   "cell_type": "code",
   "execution_count": 36,
   "metadata": {},
   "outputs": [
    {
     "name": "stdout",
     "output_type": "stream",
     "text": [
      "(120264, 209)\n",
      "(1060554, 209)\n"
     ]
    }
   ],
   "source": [
    "print(test_set_final.loc[test_set_final['sales_pred'] < 0].shape)\n",
    "print(test_set_final.shape)"
   ]
  },
  {
   "cell_type": "markdown",
   "metadata": {},
   "source": [
    "Only a small percentage of our values are negative. In this case, I'm going to set them all to 0. With those at 0 we can evaluate our model."
   ]
  },
  {
   "cell_type": "code",
   "execution_count": 37,
   "metadata": {},
   "outputs": [
    {
     "name": "stdout",
     "output_type": "stream",
     "text": [
      "(0, 209)\n"
     ]
    }
   ],
   "source": [
    "test_set_final['sales_pred'] = test_set_final['sales_pred'].clip(lower=0)\n",
    "\n",
    "print(test_set_final.loc[test_set_final['sales_pred'] < 0].shape)"
   ]
  },
  {
   "cell_type": "code",
   "execution_count": 38,
   "metadata": {},
   "outputs": [
    {
     "name": "stdout",
     "output_type": "stream",
     "text": [
      "Root mean squared log error: 1.5034830875750014\n"
     ]
    }
   ],
   "source": [
    "from sklearn.metrics import mean_squared_log_error\n",
    "\n",
    "rmsle = np.sqrt(mean_squared_log_error(test_set_final['sales_actual'], test_set_final[['sales_pred']]))\n",
    "\n",
    "print('Root mean squared log error:', rmsle)"
   ]
  },
  {
   "cell_type": "code",
   "execution_count": 39,
   "metadata": {},
   "outputs": [],
   "source": [
    "## Add back the date column\n",
    "\n",
    "def add_date(df0):\n",
    "    df = df0.copy()\n",
    "    df['date'] = pd.to_datetime(df[['year', 'month', 'day']])\n",
    "    return df\n",
    "\n",
    "train_set_final = add_date(train_set_final)\n",
    "test_set_final = add_date(test_set_final)"
   ]
  },
  {
   "cell_type": "code",
   "execution_count": 40,
   "metadata": {},
   "outputs": [
    {
     "data": {
      "image/png": "[encoded data removed]",
      "text/plain": [
       "<Figure size 1500x500 with 1 Axes>"
      ]
     },
     "metadata": {},
     "output_type": "display_data"
    }
   ],
   "source": [
    "fig, ax = plt.subplots(figsize=(15,5))\n",
    "train_set_final.plot(ax=ax, x='date', y='sales',label='Training Set')\n",
    "test_set_final.plot(ax=ax, x='date', y='sales_pred',label='Testing Set Prediction')\n",
    "ax.axvline('2016-01-01', color='black', linestyle='--')\n",
    "ax.legend(['Training','Testing'])\n",
    "plt.show()"
   ]
  },
  {
   "cell_type": "code",
   "execution_count": 41,
   "metadata": {},
   "outputs": [
    {
     "data": {
      "image/png": "[encoded data removed]",
      "text/plain": [
       "<Figure size 1500x500 with 1 Axes>"
      ]
     },
     "metadata": {},
     "output_type": "display_data"
    }
   ],
   "source": [
    "fig, ax = plt.subplots(figsize=(15,5))\n",
    "train_set_final.plot(ax=ax, x='date', y='sales',label='Training Set')\n",
    "test_set_final.plot(ax=ax, x='date', y='sales_actual',label='Testing Set Actual')\n",
    "ax.axvline('2016-01-01', color='black', linestyle='--')\n",
    "ax.legend(['Training','Testing'])\n",
    "plt.show()"
   ]
  },
  {
   "cell_type": "code",
   "execution_count": 42,
   "metadata": {},
   "outputs": [
    {
     "data": {
      "image/png": "[encoded data removed]",
      "text/plain": [
       "<Figure size 1500x500 with 1 Axes>"
      ]
     },
     "metadata": {},
     "output_type": "display_data"
    }
   ],
   "source": [
    "ax = test_set_final.plot(x='date', y='sales_actual', figsize=(15,5))\n",
    "test_set_final.plot(ax=ax, x='date', y='sales_pred')\n",
    "ax.set_title('Raw Data and Predictions')\n",
    "plt.legend(['True Data', 'Predictions'])\n",
    "plt.show()"
   ]
  },
  {
   "cell_type": "code",
   "execution_count": 43,
   "metadata": {},
   "outputs": [
    {
     "data": {
      "image/png": "[encoded data removed]",
      "text/plain": [
       "<Figure size 1500x500 with 1 Axes>"
      ]
     },
     "metadata": {},
     "output_type": "display_data"
    }
   ],
   "source": [
    "# Zoom in on a quarter\n",
    "ax = test_set_final.loc[(test_set_final['date'] >= '2016-01-01') & (test_set_final['date'] < '2016-04-01')].plot(x='date', y='sales_actual', figsize=(15,5))\n",
    "test_set_final.loc[(test_set_final['date'] >= '2016-01-01') & (test_set_final['date'] < '2016-04-01')].plot(ax=ax, x='date', y='sales_pred')\n",
    "ax.set_title('Raw Data and Predictions')\n",
    "plt.legend(['True Data', 'Predictions'])\n",
    "plt.show()"
   ]
  },
  {
   "cell_type": "markdown",
   "metadata": {},
   "source": [
    "## Observations\n",
    "\n",
    "There were a small set of negative predictions we had to handle, but otherwise the predictions seem at least reasonable. Enough for a submission."
   ]
  },
  {
   "cell_type": "code",
   "execution_count": 60,
   "metadata": {},
   "outputs": [],
   "source": [
    "df_test = df_test0"
   ]
  },
  {
   "cell_type": "code",
   "execution_count": 61,
   "metadata": {},
   "outputs": [],
   "source": [
    "# Create a model for submission.\n",
    "df_test = join_all_to_df(df_test)\n",
    "df_test = create_features(df_test)\n",
    "\n",
    "# get dummies and drop id\n",
    "df_test.drop('id', axis=1, inplace=True)"
   ]
  },
  {
   "cell_type": "code",
   "execution_count": 57,
   "metadata": {},
   "outputs": [],
   "source": [
    "# I need to get more of the unique set of values than what is in the testing set evidently, so I'll get a subset of the original and combine them\n",
    "# Everything joins on the the store number, so that's all I need really\n",
    "df_train_subset = df_train0\n",
    "\n",
    "df_train_subset = join_all_to_df(df_train_subset)\n",
    "df_train_subset = create_features(df_train_subset)\n",
    "df_train_subset.drop('id', axis=1, inplace=True)"
   ]
  },
  {
   "cell_type": "code",
   "execution_count": 64,
   "metadata": {},
   "outputs": [],
   "source": [
    "df_train_subset.drop('sales', axis=1, inplace=True)"
   ]
  },
  {
   "cell_type": "code",
   "execution_count": 65,
   "metadata": {},
   "outputs": [],
   "source": [
    "combined_df = pd.concat([df_train_subset, df_test])\n",
    "df_test_combined = pd.get_dummies(combined_df)\n",
    "df_test = df_test_combined[df_train_subset.shape[0]:]\n",
    "\n",
    "df_test_preds = xgb_reg.predict(df_test)"
   ]
  },
  {
   "cell_type": "code",
   "execution_count": 66,
   "metadata": {},
   "outputs": [],
   "source": [
    "df_test_preds = df_test_preds.clip(min=0)"
   ]
  },
  {
   "cell_type": "code",
   "execution_count": 67,
   "metadata": {},
   "outputs": [],
   "source": [
    "df_submission = pd.DataFrame({'id': range(3000888, 3029400), 'sales' : df_test_preds})"
   ]
  },
  {
   "cell_type": "code",
   "execution_count": 69,
   "metadata": {},
   "outputs": [],
   "source": [
    "df_submission.to_csv('submission_2.csv', index=False)"
   ]
  }
 ],
 "metadata": {
  "kernelspec": {
   "display_name": "Python 3",
   "language": "python",
   "name": "python3"
  },
  "language_info": {
   "codemirror_mode": {
    "name": "ipython",
    "version": 3
   },
   "file_extension": ".py",
   "mimetype": "text/x-python",
   "name": "python",
   "nbconvert_exporter": "python",
   "pygments_lexer": "ipython3",
   "version": "3.12.1"
  }
 },
 "nbformat": 4,
 "nbformat_minor": 2
}
